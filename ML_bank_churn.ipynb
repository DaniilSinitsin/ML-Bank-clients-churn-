{
 "cells": [
  {
   "cell_type": "markdown",
   "metadata": {},
   "source": [
    "# Отток клиентов"
   ]
  },
  {
   "cell_type": "markdown",
   "metadata": {},
   "source": [
    "Из «Бета-Банка» стали уходить клиенты. Каждый месяц. Немного, но заметно. Банковские маркетологи посчитали: сохранять текущих клиентов дешевле, чем привлекать новых.\n",
    "\n",
    "Нужно спрогнозировать, уйдёт клиент из банка в ближайшее время или нет. Вам предоставлены исторические данные о поведении клиентов и расторжении договоров с банком. \n",
    "\n",
    "Постройте модель с предельно большим значением *F1*-меры. Чтобы сдать проект успешно, нужно довести метрику до 0.59. Проверьте *F1*-меру на тестовой выборке самостоятельно.\n",
    "\n",
    "Дополнительно измеряйте *AUC-ROC*, сравнивайте её значение с *F1*-мерой.\n",
    "\n",
    "Источник данных: [https://www.kaggle.com/barelydedicated/bank-customer-churn-modeling](https://www.kaggle.com/barelydedicated/bank-customer-churn-modeling)"
   ]
  },
  {
   "cell_type": "markdown",
   "metadata": {},
   "source": [
    "## Оглавление:\n",
    "\n",
    "1. [Подготовка данных](#chapter1)<br>\n",
    "2. [Исследование задачи](#chapter2)<br>\n",
    "3. [Борьба с дисбалансом](#chapter3)<br>\n",
    "4. [Тестирование модели](#chapter4)<br>"
   ]
  },
  {
   "cell_type": "markdown",
   "metadata": {},
   "source": [
    "# 1. Подготовка данных\n",
    "<a class=\"anchor\" id=\"chapter1\"></a>"
   ]
  },
  {
   "cell_type": "code",
   "execution_count": 6,
   "metadata": {},
   "outputs": [],
   "source": [
    "import pandas as pd\n",
    "import numpy as np\n",
    "import matplotlib.pyplot as plt\n",
    "\n",
    "from sklearn.model_selection import train_test_split\n",
    "from sklearn.preprocessing import StandardScaler\n",
    "from sklearn.utils import shuffle\n",
    "\n",
    "from sklearn.metrics import accuracy_score\n",
    "from sklearn.metrics import mean_absolute_error\n",
    "from sklearn.metrics import precision_score, recall_score\n",
    "from sklearn.metrics import f1_score\n",
    "from sklearn.metrics import roc_auc_score\n",
    "from sklearn.metrics import roc_curve, auc\n",
    "from sklearn.metrics import confusion_matrix\n",
    "\n",
    "from sklearn.tree import DecisionTreeClassifier\n",
    "from sklearn.ensemble import RandomForestClassifier\n",
    "from sklearn.linear_model import LinearRegression\n",
    "from sklearn.linear_model import LogisticRegression"
   ]
  },
  {
   "cell_type": "code",
   "execution_count": 7,
   "metadata": {},
   "outputs": [],
   "source": [
    "data = pd.read_csv('datasets/Churn.csv')"
   ]
  },
  {
   "cell_type": "code",
   "execution_count": 8,
   "metadata": {},
   "outputs": [
    {
     "data": {
      "text/html": [
       "<div>\n",
       "<style scoped>\n",
       "    .dataframe tbody tr th:only-of-type {\n",
       "        vertical-align: middle;\n",
       "    }\n",
       "\n",
       "    .dataframe tbody tr th {\n",
       "        vertical-align: top;\n",
       "    }\n",
       "\n",
       "    .dataframe thead th {\n",
       "        text-align: right;\n",
       "    }\n",
       "</style>\n",
       "<table border=\"1\" class=\"dataframe\">\n",
       "  <thead>\n",
       "    <tr style=\"text-align: right;\">\n",
       "      <th></th>\n",
       "      <th>RowNumber</th>\n",
       "      <th>CustomerId</th>\n",
       "      <th>Surname</th>\n",
       "      <th>CreditScore</th>\n",
       "      <th>Geography</th>\n",
       "      <th>Gender</th>\n",
       "      <th>Age</th>\n",
       "      <th>Tenure</th>\n",
       "      <th>Balance</th>\n",
       "      <th>NumOfProducts</th>\n",
       "      <th>HasCrCard</th>\n",
       "      <th>IsActiveMember</th>\n",
       "      <th>EstimatedSalary</th>\n",
       "      <th>Exited</th>\n",
       "    </tr>\n",
       "  </thead>\n",
       "  <tbody>\n",
       "    <tr>\n",
       "      <td>0</td>\n",
       "      <td>1</td>\n",
       "      <td>15634602</td>\n",
       "      <td>Hargrave</td>\n",
       "      <td>619</td>\n",
       "      <td>France</td>\n",
       "      <td>Female</td>\n",
       "      <td>42</td>\n",
       "      <td>2.0</td>\n",
       "      <td>0.00</td>\n",
       "      <td>1</td>\n",
       "      <td>1</td>\n",
       "      <td>1</td>\n",
       "      <td>101348.88</td>\n",
       "      <td>1</td>\n",
       "    </tr>\n",
       "    <tr>\n",
       "      <td>1</td>\n",
       "      <td>2</td>\n",
       "      <td>15647311</td>\n",
       "      <td>Hill</td>\n",
       "      <td>608</td>\n",
       "      <td>Spain</td>\n",
       "      <td>Female</td>\n",
       "      <td>41</td>\n",
       "      <td>1.0</td>\n",
       "      <td>83807.86</td>\n",
       "      <td>1</td>\n",
       "      <td>0</td>\n",
       "      <td>1</td>\n",
       "      <td>112542.58</td>\n",
       "      <td>0</td>\n",
       "    </tr>\n",
       "    <tr>\n",
       "      <td>2</td>\n",
       "      <td>3</td>\n",
       "      <td>15619304</td>\n",
       "      <td>Onio</td>\n",
       "      <td>502</td>\n",
       "      <td>France</td>\n",
       "      <td>Female</td>\n",
       "      <td>42</td>\n",
       "      <td>8.0</td>\n",
       "      <td>159660.80</td>\n",
       "      <td>3</td>\n",
       "      <td>1</td>\n",
       "      <td>0</td>\n",
       "      <td>113931.57</td>\n",
       "      <td>1</td>\n",
       "    </tr>\n",
       "    <tr>\n",
       "      <td>3</td>\n",
       "      <td>4</td>\n",
       "      <td>15701354</td>\n",
       "      <td>Boni</td>\n",
       "      <td>699</td>\n",
       "      <td>France</td>\n",
       "      <td>Female</td>\n",
       "      <td>39</td>\n",
       "      <td>1.0</td>\n",
       "      <td>0.00</td>\n",
       "      <td>2</td>\n",
       "      <td>0</td>\n",
       "      <td>0</td>\n",
       "      <td>93826.63</td>\n",
       "      <td>0</td>\n",
       "    </tr>\n",
       "    <tr>\n",
       "      <td>4</td>\n",
       "      <td>5</td>\n",
       "      <td>15737888</td>\n",
       "      <td>Mitchell</td>\n",
       "      <td>850</td>\n",
       "      <td>Spain</td>\n",
       "      <td>Female</td>\n",
       "      <td>43</td>\n",
       "      <td>2.0</td>\n",
       "      <td>125510.82</td>\n",
       "      <td>1</td>\n",
       "      <td>1</td>\n",
       "      <td>1</td>\n",
       "      <td>79084.10</td>\n",
       "      <td>0</td>\n",
       "    </tr>\n",
       "  </tbody>\n",
       "</table>\n",
       "</div>"
      ],
      "text/plain": [
       "   RowNumber  CustomerId   Surname  CreditScore Geography  Gender  Age  \\\n",
       "0          1    15634602  Hargrave          619    France  Female   42   \n",
       "1          2    15647311      Hill          608     Spain  Female   41   \n",
       "2          3    15619304      Onio          502    France  Female   42   \n",
       "3          4    15701354      Boni          699    France  Female   39   \n",
       "4          5    15737888  Mitchell          850     Spain  Female   43   \n",
       "\n",
       "   Tenure    Balance  NumOfProducts  HasCrCard  IsActiveMember  \\\n",
       "0     2.0       0.00              1          1               1   \n",
       "1     1.0   83807.86              1          0               1   \n",
       "2     8.0  159660.80              3          1               0   \n",
       "3     1.0       0.00              2          0               0   \n",
       "4     2.0  125510.82              1          1               1   \n",
       "\n",
       "   EstimatedSalary  Exited  \n",
       "0        101348.88       1  \n",
       "1        112542.58       0  \n",
       "2        113931.57       1  \n",
       "3         93826.63       0  \n",
       "4         79084.10       0  "
      ]
     },
     "execution_count": 8,
     "metadata": {},
     "output_type": "execute_result"
    }
   ],
   "source": [
    "data.head()"
   ]
  },
  {
   "cell_type": "code",
   "execution_count": 9,
   "metadata": {},
   "outputs": [
    {
     "name": "stdout",
     "output_type": "stream",
     "text": [
      "<class 'pandas.core.frame.DataFrame'>\n",
      "RangeIndex: 10000 entries, 0 to 9999\n",
      "Data columns (total 14 columns):\n",
      "RowNumber          10000 non-null int64\n",
      "CustomerId         10000 non-null int64\n",
      "Surname            10000 non-null object\n",
      "CreditScore        10000 non-null int64\n",
      "Geography          10000 non-null object\n",
      "Gender             10000 non-null object\n",
      "Age                10000 non-null int64\n",
      "Tenure             9091 non-null float64\n",
      "Balance            10000 non-null float64\n",
      "NumOfProducts      10000 non-null int64\n",
      "HasCrCard          10000 non-null int64\n",
      "IsActiveMember     10000 non-null int64\n",
      "EstimatedSalary    10000 non-null float64\n",
      "Exited             10000 non-null int64\n",
      "dtypes: float64(3), int64(8), object(3)\n",
      "memory usage: 1.1+ MB\n"
     ]
    }
   ],
   "source": [
    "data.info()"
   ]
  },
  {
   "cell_type": "markdown",
   "metadata": {},
   "source": [
    "Признаки\n",
    "- RowNumber — индекс строки в данных\n",
    "- CustomerId — уникальный идентификатор клиента\n",
    "- Surname — фамилия\n",
    "- CreditScore — кредитный рейтинг\n",
    "- Geography — страна проживания\n",
    "- Gender — пол\n",
    "- Age — возраст\n",
    "- Tenure — количество недвижимости у клиента\n",
    "- Balance — баланс на счёте\n",
    "- NumOfProducts — количество продуктов банка, используемых клиентом\n",
    "- HasCrCard — наличие кредитной карты\n",
    "- IsActiveMember — активность клиента\n",
    "- EstimatedSalary — предполагаемая зарплата<br>\n",
    "\n",
    "Целевой признак\n",
    "- Exited — факт ухода клиента"
   ]
  },
  {
   "cell_type": "markdown",
   "metadata": {},
   "source": [
    "Мы видим ненужные нам столбцы не имеющие логики связи с отоком клиентов, такие как - номер строки, ID клиента и фамилия, уберем их"
   ]
  },
  {
   "cell_type": "code",
   "execution_count": 10,
   "metadata": {},
   "outputs": [
    {
     "data": {
      "text/plain": [
       "0    0.7963\n",
       "1    0.2037\n",
       "Name: Exited, dtype: float64"
      ]
     },
     "execution_count": 10,
     "metadata": {},
     "output_type": "execute_result"
    }
   ],
   "source": [
    "data['Exited'].value_counts(normalize=True)"
   ]
  },
  {
   "cell_type": "markdown",
   "metadata": {},
   "source": [
    " Мы видим что по факту уходит 20% клиентов"
   ]
  },
  {
   "cell_type": "code",
   "execution_count": 11,
   "metadata": {},
   "outputs": [],
   "source": [
    "data = data.drop(['CustomerId', 'RowNumber', 'Surname'], axis=1)"
   ]
  },
  {
   "cell_type": "code",
   "execution_count": 12,
   "metadata": {},
   "outputs": [
    {
     "name": "stdout",
     "output_type": "stream",
     "text": [
      "<class 'pandas.core.frame.DataFrame'>\n",
      "RangeIndex: 10000 entries, 0 to 9999\n",
      "Data columns (total 11 columns):\n",
      "CreditScore        10000 non-null int64\n",
      "Geography          10000 non-null object\n",
      "Gender             10000 non-null object\n",
      "Age                10000 non-null int64\n",
      "Tenure             9091 non-null float64\n",
      "Balance            10000 non-null float64\n",
      "NumOfProducts      10000 non-null int64\n",
      "HasCrCard          10000 non-null int64\n",
      "IsActiveMember     10000 non-null int64\n",
      "EstimatedSalary    10000 non-null float64\n",
      "Exited             10000 non-null int64\n",
      "dtypes: float64(3), int64(6), object(2)\n",
      "memory usage: 859.5+ KB\n"
     ]
    }
   ],
   "source": [
    "data.info()"
   ]
  },
  {
   "cell_type": "markdown",
   "metadata": {},
   "source": [
    "Мы видим пропуски в столбце Tenure - количество недвижимости, полагаем там где пропуски клиент не владеет недвижимостью и решил скрыть информацию либо просто ее не указывать, заменим пропуски на нули, да и слишком низкиий процент клиентов без недвижимости для нашей выборки, менее 4%, очень это странно, либо у нас особые клиенты которые почти все владеют недвижимостью, что не указывалось в задаче."
   ]
  },
  {
   "cell_type": "code",
   "execution_count": 13,
   "metadata": {},
   "outputs": [
    {
     "data": {
      "text/plain": [
       "1.0     952\n",
       "2.0     950\n",
       "8.0     933\n",
       "3.0     928\n",
       "5.0     927\n",
       "7.0     925\n",
       "4.0     885\n",
       "9.0     882\n",
       "6.0     881\n",
       "10.0    446\n",
       "0.0     382\n",
       "Name: Tenure, dtype: int64"
      ]
     },
     "execution_count": 13,
     "metadata": {},
     "output_type": "execute_result"
    }
   ],
   "source": [
    "data['Tenure'].value_counts()"
   ]
  },
  {
   "cell_type": "code",
   "execution_count": 14,
   "metadata": {},
   "outputs": [],
   "source": [
    "data['Tenure']=data['Tenure'].fillna(0)"
   ]
  },
  {
   "cell_type": "markdown",
   "metadata": {},
   "source": [
    "Проверим итоги"
   ]
  },
  {
   "cell_type": "code",
   "execution_count": 15,
   "metadata": {},
   "outputs": [
    {
     "name": "stdout",
     "output_type": "stream",
     "text": [
      "<class 'pandas.core.frame.DataFrame'>\n",
      "RangeIndex: 10000 entries, 0 to 9999\n",
      "Data columns (total 11 columns):\n",
      "CreditScore        10000 non-null int64\n",
      "Geography          10000 non-null object\n",
      "Gender             10000 non-null object\n",
      "Age                10000 non-null int64\n",
      "Tenure             10000 non-null float64\n",
      "Balance            10000 non-null float64\n",
      "NumOfProducts      10000 non-null int64\n",
      "HasCrCard          10000 non-null int64\n",
      "IsActiveMember     10000 non-null int64\n",
      "EstimatedSalary    10000 non-null float64\n",
      "Exited             10000 non-null int64\n",
      "dtypes: float64(3), int64(6), object(2)\n",
      "memory usage: 859.5+ KB\n"
     ]
    }
   ],
   "source": [
    "data.info()"
   ]
  },
  {
   "cell_type": "code",
   "execution_count": 16,
   "metadata": {},
   "outputs": [
    {
     "data": {
      "text/html": [
       "<div>\n",
       "<style scoped>\n",
       "    .dataframe tbody tr th:only-of-type {\n",
       "        vertical-align: middle;\n",
       "    }\n",
       "\n",
       "    .dataframe tbody tr th {\n",
       "        vertical-align: top;\n",
       "    }\n",
       "\n",
       "    .dataframe thead th {\n",
       "        text-align: right;\n",
       "    }\n",
       "</style>\n",
       "<table border=\"1\" class=\"dataframe\">\n",
       "  <thead>\n",
       "    <tr style=\"text-align: right;\">\n",
       "      <th></th>\n",
       "      <th>CreditScore</th>\n",
       "      <th>Geography</th>\n",
       "      <th>Gender</th>\n",
       "      <th>Age</th>\n",
       "      <th>Tenure</th>\n",
       "      <th>Balance</th>\n",
       "      <th>NumOfProducts</th>\n",
       "      <th>HasCrCard</th>\n",
       "      <th>IsActiveMember</th>\n",
       "      <th>EstimatedSalary</th>\n",
       "      <th>Exited</th>\n",
       "    </tr>\n",
       "  </thead>\n",
       "  <tbody>\n",
       "    <tr>\n",
       "      <td>0</td>\n",
       "      <td>619</td>\n",
       "      <td>France</td>\n",
       "      <td>Female</td>\n",
       "      <td>42</td>\n",
       "      <td>2.0</td>\n",
       "      <td>0.00</td>\n",
       "      <td>1</td>\n",
       "      <td>1</td>\n",
       "      <td>1</td>\n",
       "      <td>101348.88</td>\n",
       "      <td>1</td>\n",
       "    </tr>\n",
       "    <tr>\n",
       "      <td>1</td>\n",
       "      <td>608</td>\n",
       "      <td>Spain</td>\n",
       "      <td>Female</td>\n",
       "      <td>41</td>\n",
       "      <td>1.0</td>\n",
       "      <td>83807.86</td>\n",
       "      <td>1</td>\n",
       "      <td>0</td>\n",
       "      <td>1</td>\n",
       "      <td>112542.58</td>\n",
       "      <td>0</td>\n",
       "    </tr>\n",
       "    <tr>\n",
       "      <td>2</td>\n",
       "      <td>502</td>\n",
       "      <td>France</td>\n",
       "      <td>Female</td>\n",
       "      <td>42</td>\n",
       "      <td>8.0</td>\n",
       "      <td>159660.80</td>\n",
       "      <td>3</td>\n",
       "      <td>1</td>\n",
       "      <td>0</td>\n",
       "      <td>113931.57</td>\n",
       "      <td>1</td>\n",
       "    </tr>\n",
       "    <tr>\n",
       "      <td>3</td>\n",
       "      <td>699</td>\n",
       "      <td>France</td>\n",
       "      <td>Female</td>\n",
       "      <td>39</td>\n",
       "      <td>1.0</td>\n",
       "      <td>0.00</td>\n",
       "      <td>2</td>\n",
       "      <td>0</td>\n",
       "      <td>0</td>\n",
       "      <td>93826.63</td>\n",
       "      <td>0</td>\n",
       "    </tr>\n",
       "    <tr>\n",
       "      <td>4</td>\n",
       "      <td>850</td>\n",
       "      <td>Spain</td>\n",
       "      <td>Female</td>\n",
       "      <td>43</td>\n",
       "      <td>2.0</td>\n",
       "      <td>125510.82</td>\n",
       "      <td>1</td>\n",
       "      <td>1</td>\n",
       "      <td>1</td>\n",
       "      <td>79084.10</td>\n",
       "      <td>0</td>\n",
       "    </tr>\n",
       "  </tbody>\n",
       "</table>\n",
       "</div>"
      ],
      "text/plain": [
       "   CreditScore Geography  Gender  Age  Tenure    Balance  NumOfProducts  \\\n",
       "0          619    France  Female   42     2.0       0.00              1   \n",
       "1          608     Spain  Female   41     1.0   83807.86              1   \n",
       "2          502    France  Female   42     8.0  159660.80              3   \n",
       "3          699    France  Female   39     1.0       0.00              2   \n",
       "4          850     Spain  Female   43     2.0  125510.82              1   \n",
       "\n",
       "   HasCrCard  IsActiveMember  EstimatedSalary  Exited  \n",
       "0          1               1        101348.88       1  \n",
       "1          0               1        112542.58       0  \n",
       "2          1               0        113931.57       1  \n",
       "3          0               0         93826.63       0  \n",
       "4          1               1         79084.10       0  "
      ]
     },
     "execution_count": 16,
     "metadata": {},
     "output_type": "execute_result"
    }
   ],
   "source": [
    "data.head()"
   ]
  },
  {
   "cell_type": "code",
   "execution_count": 17,
   "metadata": {},
   "outputs": [
    {
     "data": {
      "text/html": [
       "<div>\n",
       "<style scoped>\n",
       "    .dataframe tbody tr th:only-of-type {\n",
       "        vertical-align: middle;\n",
       "    }\n",
       "\n",
       "    .dataframe tbody tr th {\n",
       "        vertical-align: top;\n",
       "    }\n",
       "\n",
       "    .dataframe thead th {\n",
       "        text-align: right;\n",
       "    }\n",
       "</style>\n",
       "<table border=\"1\" class=\"dataframe\">\n",
       "  <thead>\n",
       "    <tr style=\"text-align: right;\">\n",
       "      <th></th>\n",
       "      <th>CreditScore</th>\n",
       "      <th>Age</th>\n",
       "      <th>Tenure</th>\n",
       "      <th>Balance</th>\n",
       "      <th>NumOfProducts</th>\n",
       "      <th>HasCrCard</th>\n",
       "      <th>IsActiveMember</th>\n",
       "      <th>EstimatedSalary</th>\n",
       "      <th>Exited</th>\n",
       "    </tr>\n",
       "  </thead>\n",
       "  <tbody>\n",
       "    <tr>\n",
       "      <td>count</td>\n",
       "      <td>10000.000000</td>\n",
       "      <td>10000.000000</td>\n",
       "      <td>10000.000000</td>\n",
       "      <td>10000.000000</td>\n",
       "      <td>10000.000000</td>\n",
       "      <td>10000.00000</td>\n",
       "      <td>10000.000000</td>\n",
       "      <td>10000.000000</td>\n",
       "      <td>10000.000000</td>\n",
       "    </tr>\n",
       "    <tr>\n",
       "      <td>mean</td>\n",
       "      <td>650.528800</td>\n",
       "      <td>38.921800</td>\n",
       "      <td>4.543400</td>\n",
       "      <td>76485.889288</td>\n",
       "      <td>1.530200</td>\n",
       "      <td>0.70550</td>\n",
       "      <td>0.515100</td>\n",
       "      <td>100090.239881</td>\n",
       "      <td>0.203700</td>\n",
       "    </tr>\n",
       "    <tr>\n",
       "      <td>std</td>\n",
       "      <td>96.653299</td>\n",
       "      <td>10.487806</td>\n",
       "      <td>3.111573</td>\n",
       "      <td>62397.405202</td>\n",
       "      <td>0.581654</td>\n",
       "      <td>0.45584</td>\n",
       "      <td>0.499797</td>\n",
       "      <td>57510.492818</td>\n",
       "      <td>0.402769</td>\n",
       "    </tr>\n",
       "    <tr>\n",
       "      <td>min</td>\n",
       "      <td>350.000000</td>\n",
       "      <td>18.000000</td>\n",
       "      <td>0.000000</td>\n",
       "      <td>0.000000</td>\n",
       "      <td>1.000000</td>\n",
       "      <td>0.00000</td>\n",
       "      <td>0.000000</td>\n",
       "      <td>11.580000</td>\n",
       "      <td>0.000000</td>\n",
       "    </tr>\n",
       "    <tr>\n",
       "      <td>25%</td>\n",
       "      <td>584.000000</td>\n",
       "      <td>32.000000</td>\n",
       "      <td>2.000000</td>\n",
       "      <td>0.000000</td>\n",
       "      <td>1.000000</td>\n",
       "      <td>0.00000</td>\n",
       "      <td>0.000000</td>\n",
       "      <td>51002.110000</td>\n",
       "      <td>0.000000</td>\n",
       "    </tr>\n",
       "    <tr>\n",
       "      <td>50%</td>\n",
       "      <td>652.000000</td>\n",
       "      <td>37.000000</td>\n",
       "      <td>4.000000</td>\n",
       "      <td>97198.540000</td>\n",
       "      <td>1.000000</td>\n",
       "      <td>1.00000</td>\n",
       "      <td>1.000000</td>\n",
       "      <td>100193.915000</td>\n",
       "      <td>0.000000</td>\n",
       "    </tr>\n",
       "    <tr>\n",
       "      <td>75%</td>\n",
       "      <td>718.000000</td>\n",
       "      <td>44.000000</td>\n",
       "      <td>7.000000</td>\n",
       "      <td>127644.240000</td>\n",
       "      <td>2.000000</td>\n",
       "      <td>1.00000</td>\n",
       "      <td>1.000000</td>\n",
       "      <td>149388.247500</td>\n",
       "      <td>0.000000</td>\n",
       "    </tr>\n",
       "    <tr>\n",
       "      <td>max</td>\n",
       "      <td>850.000000</td>\n",
       "      <td>92.000000</td>\n",
       "      <td>10.000000</td>\n",
       "      <td>250898.090000</td>\n",
       "      <td>4.000000</td>\n",
       "      <td>1.00000</td>\n",
       "      <td>1.000000</td>\n",
       "      <td>199992.480000</td>\n",
       "      <td>1.000000</td>\n",
       "    </tr>\n",
       "  </tbody>\n",
       "</table>\n",
       "</div>"
      ],
      "text/plain": [
       "        CreditScore           Age        Tenure        Balance  NumOfProducts  \\\n",
       "count  10000.000000  10000.000000  10000.000000   10000.000000   10000.000000   \n",
       "mean     650.528800     38.921800      4.543400   76485.889288       1.530200   \n",
       "std       96.653299     10.487806      3.111573   62397.405202       0.581654   \n",
       "min      350.000000     18.000000      0.000000       0.000000       1.000000   \n",
       "25%      584.000000     32.000000      2.000000       0.000000       1.000000   \n",
       "50%      652.000000     37.000000      4.000000   97198.540000       1.000000   \n",
       "75%      718.000000     44.000000      7.000000  127644.240000       2.000000   \n",
       "max      850.000000     92.000000     10.000000  250898.090000       4.000000   \n",
       "\n",
       "         HasCrCard  IsActiveMember  EstimatedSalary        Exited  \n",
       "count  10000.00000    10000.000000     10000.000000  10000.000000  \n",
       "mean       0.70550        0.515100    100090.239881      0.203700  \n",
       "std        0.45584        0.499797     57510.492818      0.402769  \n",
       "min        0.00000        0.000000        11.580000      0.000000  \n",
       "25%        0.00000        0.000000     51002.110000      0.000000  \n",
       "50%        1.00000        1.000000    100193.915000      0.000000  \n",
       "75%        1.00000        1.000000    149388.247500      0.000000  \n",
       "max        1.00000        1.000000    199992.480000      1.000000  "
      ]
     },
     "execution_count": 17,
     "metadata": {},
     "output_type": "execute_result"
    }
   ],
   "source": [
    "data.describe()"
   ]
  },
  {
   "cell_type": "markdown",
   "metadata": {},
   "source": [
    "Сделаем кодирование категориальных признаков методом one_hot_encording подходящим для разных видов ML, и поделим данные на тренировочную, валидационную и тестовую выборки"
   ]
  },
  {
   "cell_type": "code",
   "execution_count": 18,
   "metadata": {},
   "outputs": [],
   "source": [
    "data_ohe = pd.get_dummies(data, drop_first=True)\n",
    "target = data_ohe['Exited']\n",
    "features = data_ohe.drop('Exited', axis=1)\n",
    "features_train, features_testing, target_train, target_testing = train_test_split(\n",
    "    features, target, stratify=target, test_size=0.4, random_state=12345)\n",
    "features_test, features_valid, target_test, target_valid = train_test_split(\n",
    "    features_testing, target_testing, stratify=target_testing, test_size=0.5, random_state=12345)"
   ]
  },
  {
   "cell_type": "markdown",
   "metadata": {},
   "source": [
    "Сохраним ввиде новых объектов наши выборки"
   ]
  },
  {
   "cell_type": "code",
   "execution_count": 19,
   "metadata": {},
   "outputs": [],
   "source": [
    "features_train = features_train.copy()\n",
    "features_valid = features_valid.copy()\n",
    "features_test = features_test.copy()\n",
    "target_train = target_train.copy()\n",
    "target_valid = target_valid.copy()\n",
    "target_test = target_test.copy()"
   ]
  },
  {
   "cell_type": "code",
   "execution_count": 20,
   "metadata": {},
   "outputs": [
    {
     "data": {
      "text/html": [
       "<div>\n",
       "<style scoped>\n",
       "    .dataframe tbody tr th:only-of-type {\n",
       "        vertical-align: middle;\n",
       "    }\n",
       "\n",
       "    .dataframe tbody tr th {\n",
       "        vertical-align: top;\n",
       "    }\n",
       "\n",
       "    .dataframe thead th {\n",
       "        text-align: right;\n",
       "    }\n",
       "</style>\n",
       "<table border=\"1\" class=\"dataframe\">\n",
       "  <thead>\n",
       "    <tr style=\"text-align: right;\">\n",
       "      <th></th>\n",
       "      <th>CreditScore</th>\n",
       "      <th>Age</th>\n",
       "      <th>Tenure</th>\n",
       "      <th>Balance</th>\n",
       "      <th>NumOfProducts</th>\n",
       "      <th>HasCrCard</th>\n",
       "      <th>IsActiveMember</th>\n",
       "      <th>EstimatedSalary</th>\n",
       "      <th>Geography_Germany</th>\n",
       "      <th>Geography_Spain</th>\n",
       "      <th>Gender_Male</th>\n",
       "    </tr>\n",
       "  </thead>\n",
       "  <tbody>\n",
       "    <tr>\n",
       "      <td>count</td>\n",
       "      <td>10000.000000</td>\n",
       "      <td>10000.000000</td>\n",
       "      <td>10000.000000</td>\n",
       "      <td>10000.000000</td>\n",
       "      <td>10000.000000</td>\n",
       "      <td>10000.00000</td>\n",
       "      <td>10000.000000</td>\n",
       "      <td>10000.000000</td>\n",
       "      <td>10000.000000</td>\n",
       "      <td>10000.000000</td>\n",
       "      <td>10000.000000</td>\n",
       "    </tr>\n",
       "    <tr>\n",
       "      <td>mean</td>\n",
       "      <td>650.528800</td>\n",
       "      <td>38.921800</td>\n",
       "      <td>4.543400</td>\n",
       "      <td>76485.889288</td>\n",
       "      <td>1.530200</td>\n",
       "      <td>0.70550</td>\n",
       "      <td>0.515100</td>\n",
       "      <td>100090.239881</td>\n",
       "      <td>0.250900</td>\n",
       "      <td>0.247700</td>\n",
       "      <td>0.545700</td>\n",
       "    </tr>\n",
       "    <tr>\n",
       "      <td>std</td>\n",
       "      <td>96.653299</td>\n",
       "      <td>10.487806</td>\n",
       "      <td>3.111573</td>\n",
       "      <td>62397.405202</td>\n",
       "      <td>0.581654</td>\n",
       "      <td>0.45584</td>\n",
       "      <td>0.499797</td>\n",
       "      <td>57510.492818</td>\n",
       "      <td>0.433553</td>\n",
       "      <td>0.431698</td>\n",
       "      <td>0.497932</td>\n",
       "    </tr>\n",
       "    <tr>\n",
       "      <td>min</td>\n",
       "      <td>350.000000</td>\n",
       "      <td>18.000000</td>\n",
       "      <td>0.000000</td>\n",
       "      <td>0.000000</td>\n",
       "      <td>1.000000</td>\n",
       "      <td>0.00000</td>\n",
       "      <td>0.000000</td>\n",
       "      <td>11.580000</td>\n",
       "      <td>0.000000</td>\n",
       "      <td>0.000000</td>\n",
       "      <td>0.000000</td>\n",
       "    </tr>\n",
       "    <tr>\n",
       "      <td>25%</td>\n",
       "      <td>584.000000</td>\n",
       "      <td>32.000000</td>\n",
       "      <td>2.000000</td>\n",
       "      <td>0.000000</td>\n",
       "      <td>1.000000</td>\n",
       "      <td>0.00000</td>\n",
       "      <td>0.000000</td>\n",
       "      <td>51002.110000</td>\n",
       "      <td>0.000000</td>\n",
       "      <td>0.000000</td>\n",
       "      <td>0.000000</td>\n",
       "    </tr>\n",
       "    <tr>\n",
       "      <td>50%</td>\n",
       "      <td>652.000000</td>\n",
       "      <td>37.000000</td>\n",
       "      <td>4.000000</td>\n",
       "      <td>97198.540000</td>\n",
       "      <td>1.000000</td>\n",
       "      <td>1.00000</td>\n",
       "      <td>1.000000</td>\n",
       "      <td>100193.915000</td>\n",
       "      <td>0.000000</td>\n",
       "      <td>0.000000</td>\n",
       "      <td>1.000000</td>\n",
       "    </tr>\n",
       "    <tr>\n",
       "      <td>75%</td>\n",
       "      <td>718.000000</td>\n",
       "      <td>44.000000</td>\n",
       "      <td>7.000000</td>\n",
       "      <td>127644.240000</td>\n",
       "      <td>2.000000</td>\n",
       "      <td>1.00000</td>\n",
       "      <td>1.000000</td>\n",
       "      <td>149388.247500</td>\n",
       "      <td>1.000000</td>\n",
       "      <td>0.000000</td>\n",
       "      <td>1.000000</td>\n",
       "    </tr>\n",
       "    <tr>\n",
       "      <td>max</td>\n",
       "      <td>850.000000</td>\n",
       "      <td>92.000000</td>\n",
       "      <td>10.000000</td>\n",
       "      <td>250898.090000</td>\n",
       "      <td>4.000000</td>\n",
       "      <td>1.00000</td>\n",
       "      <td>1.000000</td>\n",
       "      <td>199992.480000</td>\n",
       "      <td>1.000000</td>\n",
       "      <td>1.000000</td>\n",
       "      <td>1.000000</td>\n",
       "    </tr>\n",
       "  </tbody>\n",
       "</table>\n",
       "</div>"
      ],
      "text/plain": [
       "        CreditScore           Age        Tenure        Balance  NumOfProducts  \\\n",
       "count  10000.000000  10000.000000  10000.000000   10000.000000   10000.000000   \n",
       "mean     650.528800     38.921800      4.543400   76485.889288       1.530200   \n",
       "std       96.653299     10.487806      3.111573   62397.405202       0.581654   \n",
       "min      350.000000     18.000000      0.000000       0.000000       1.000000   \n",
       "25%      584.000000     32.000000      2.000000       0.000000       1.000000   \n",
       "50%      652.000000     37.000000      4.000000   97198.540000       1.000000   \n",
       "75%      718.000000     44.000000      7.000000  127644.240000       2.000000   \n",
       "max      850.000000     92.000000     10.000000  250898.090000       4.000000   \n",
       "\n",
       "         HasCrCard  IsActiveMember  EstimatedSalary  Geography_Germany  \\\n",
       "count  10000.00000    10000.000000     10000.000000       10000.000000   \n",
       "mean       0.70550        0.515100    100090.239881           0.250900   \n",
       "std        0.45584        0.499797     57510.492818           0.433553   \n",
       "min        0.00000        0.000000        11.580000           0.000000   \n",
       "25%        0.00000        0.000000     51002.110000           0.000000   \n",
       "50%        1.00000        1.000000    100193.915000           0.000000   \n",
       "75%        1.00000        1.000000    149388.247500           1.000000   \n",
       "max        1.00000        1.000000    199992.480000           1.000000   \n",
       "\n",
       "       Geography_Spain   Gender_Male  \n",
       "count     10000.000000  10000.000000  \n",
       "mean          0.247700      0.545700  \n",
       "std           0.431698      0.497932  \n",
       "min           0.000000      0.000000  \n",
       "25%           0.000000      0.000000  \n",
       "50%           0.000000      1.000000  \n",
       "75%           0.000000      1.000000  \n",
       "max           1.000000      1.000000  "
      ]
     },
     "execution_count": 20,
     "metadata": {},
     "output_type": "execute_result"
    }
   ],
   "source": [
    "features.describe()"
   ]
  },
  {
   "cell_type": "markdown",
   "metadata": {},
   "source": [
    "Теперь масштабируем численные признаки"
   ]
  },
  {
   "cell_type": "code",
   "execution_count": 21,
   "metadata": {},
   "outputs": [],
   "source": [
    "numeric = ['CreditScore', 'Age', 'Tenure', 'Balance', 'NumOfProducts', 'EstimatedSalary']"
   ]
  },
  {
   "cell_type": "code",
   "execution_count": 22,
   "metadata": {},
   "outputs": [],
   "source": [
    "scaler = StandardScaler()\n",
    "scaler.fit(features_train.loc[:, numeric])\n",
    "features_train.loc[:, numeric] = scaler.transform(features_train.loc[:, numeric])\n",
    "features_valid.loc[:, numeric] = scaler.transform(features_valid.loc[:, numeric])\n",
    "features_test.loc[:, numeric] = scaler.transform(features_test.loc[:, numeric])"
   ]
  },
  {
   "cell_type": "code",
   "execution_count": 23,
   "metadata": {},
   "outputs": [
    {
     "data": {
      "text/html": [
       "<div>\n",
       "<style scoped>\n",
       "    .dataframe tbody tr th:only-of-type {\n",
       "        vertical-align: middle;\n",
       "    }\n",
       "\n",
       "    .dataframe tbody tr th {\n",
       "        vertical-align: top;\n",
       "    }\n",
       "\n",
       "    .dataframe thead th {\n",
       "        text-align: right;\n",
       "    }\n",
       "</style>\n",
       "<table border=\"1\" class=\"dataframe\">\n",
       "  <thead>\n",
       "    <tr style=\"text-align: right;\">\n",
       "      <th></th>\n",
       "      <th>CreditScore</th>\n",
       "      <th>Age</th>\n",
       "      <th>Tenure</th>\n",
       "      <th>Balance</th>\n",
       "      <th>NumOfProducts</th>\n",
       "      <th>HasCrCard</th>\n",
       "      <th>IsActiveMember</th>\n",
       "      <th>EstimatedSalary</th>\n",
       "      <th>Geography_Germany</th>\n",
       "      <th>Geography_Spain</th>\n",
       "      <th>Gender_Male</th>\n",
       "    </tr>\n",
       "  </thead>\n",
       "  <tbody>\n",
       "    <tr>\n",
       "      <td>count</td>\n",
       "      <td>6.000000e+03</td>\n",
       "      <td>6.000000e+03</td>\n",
       "      <td>6.000000e+03</td>\n",
       "      <td>6.000000e+03</td>\n",
       "      <td>6.000000e+03</td>\n",
       "      <td>6000.000000</td>\n",
       "      <td>6000.000000</td>\n",
       "      <td>6.000000e+03</td>\n",
       "      <td>6000.000000</td>\n",
       "      <td>6000.00000</td>\n",
       "      <td>6000.000000</td>\n",
       "    </tr>\n",
       "    <tr>\n",
       "      <td>mean</td>\n",
       "      <td>5.765758e-16</td>\n",
       "      <td>5.192143e-17</td>\n",
       "      <td>-1.648357e-16</td>\n",
       "      <td>-1.318205e-16</td>\n",
       "      <td>1.153337e-16</td>\n",
       "      <td>0.699500</td>\n",
       "      <td>0.515500</td>\n",
       "      <td>-9.272907e-17</td>\n",
       "      <td>0.248500</td>\n",
       "      <td>0.24900</td>\n",
       "      <td>0.548500</td>\n",
       "    </tr>\n",
       "    <tr>\n",
       "      <td>std</td>\n",
       "      <td>1.000083e+00</td>\n",
       "      <td>1.000083e+00</td>\n",
       "      <td>1.000083e+00</td>\n",
       "      <td>1.000083e+00</td>\n",
       "      <td>1.000083e+00</td>\n",
       "      <td>0.458514</td>\n",
       "      <td>0.499801</td>\n",
       "      <td>1.000083e+00</td>\n",
       "      <td>0.432179</td>\n",
       "      <td>0.43247</td>\n",
       "      <td>0.497684</td>\n",
       "    </tr>\n",
       "    <tr>\n",
       "      <td>min</td>\n",
       "      <td>-3.091423e+00</td>\n",
       "      <td>-2.001708e+00</td>\n",
       "      <td>-1.461501e+00</td>\n",
       "      <td>-1.219673e+00</td>\n",
       "      <td>-9.147077e-01</td>\n",
       "      <td>0.000000</td>\n",
       "      <td>0.000000</td>\n",
       "      <td>-1.743588e+00</td>\n",
       "      <td>0.000000</td>\n",
       "      <td>0.00000</td>\n",
       "      <td>0.000000</td>\n",
       "    </tr>\n",
       "    <tr>\n",
       "      <td>25%</td>\n",
       "      <td>-6.900136e-01</td>\n",
       "      <td>-6.671831e-01</td>\n",
       "      <td>-8.185176e-01</td>\n",
       "      <td>-1.219673e+00</td>\n",
       "      <td>-9.147077e-01</td>\n",
       "      <td>0.000000</td>\n",
       "      <td>0.000000</td>\n",
       "      <td>-8.612047e-01</td>\n",
       "      <td>0.000000</td>\n",
       "      <td>0.00000</td>\n",
       "      <td>0.000000</td>\n",
       "    </tr>\n",
       "    <tr>\n",
       "      <td>50%</td>\n",
       "      <td>1.082696e-02</td>\n",
       "      <td>-1.905670e-01</td>\n",
       "      <td>-1.755344e-01</td>\n",
       "      <td>3.352877e-01</td>\n",
       "      <td>-9.147077e-01</td>\n",
       "      <td>1.000000</td>\n",
       "      <td>1.000000</td>\n",
       "      <td>-3.425867e-04</td>\n",
       "      <td>0.000000</td>\n",
       "      <td>0.00000</td>\n",
       "      <td>1.000000</td>\n",
       "    </tr>\n",
       "    <tr>\n",
       "      <td>75%</td>\n",
       "      <td>6.910545e-01</td>\n",
       "      <td>4.766956e-01</td>\n",
       "      <td>7.889404e-01</td>\n",
       "      <td>8.252858e-01</td>\n",
       "      <td>8.209806e-01</td>\n",
       "      <td>1.000000</td>\n",
       "      <td>1.000000</td>\n",
       "      <td>8.659700e-01</td>\n",
       "      <td>0.000000</td>\n",
       "      <td>0.00000</td>\n",
       "      <td>1.000000</td>\n",
       "    </tr>\n",
       "    <tr>\n",
       "      <td>max</td>\n",
       "      <td>2.061816e+00</td>\n",
       "      <td>5.052210e+00</td>\n",
       "      <td>1.753415e+00</td>\n",
       "      <td>2.588919e+00</td>\n",
       "      <td>4.292357e+00</td>\n",
       "      <td>1.000000</td>\n",
       "      <td>1.000000</td>\n",
       "      <td>1.730631e+00</td>\n",
       "      <td>1.000000</td>\n",
       "      <td>1.00000</td>\n",
       "      <td>1.000000</td>\n",
       "    </tr>\n",
       "  </tbody>\n",
       "</table>\n",
       "</div>"
      ],
      "text/plain": [
       "        CreditScore           Age        Tenure       Balance  NumOfProducts  \\\n",
       "count  6.000000e+03  6.000000e+03  6.000000e+03  6.000000e+03   6.000000e+03   \n",
       "mean   5.765758e-16  5.192143e-17 -1.648357e-16 -1.318205e-16   1.153337e-16   \n",
       "std    1.000083e+00  1.000083e+00  1.000083e+00  1.000083e+00   1.000083e+00   \n",
       "min   -3.091423e+00 -2.001708e+00 -1.461501e+00 -1.219673e+00  -9.147077e-01   \n",
       "25%   -6.900136e-01 -6.671831e-01 -8.185176e-01 -1.219673e+00  -9.147077e-01   \n",
       "50%    1.082696e-02 -1.905670e-01 -1.755344e-01  3.352877e-01  -9.147077e-01   \n",
       "75%    6.910545e-01  4.766956e-01  7.889404e-01  8.252858e-01   8.209806e-01   \n",
       "max    2.061816e+00  5.052210e+00  1.753415e+00  2.588919e+00   4.292357e+00   \n",
       "\n",
       "         HasCrCard  IsActiveMember  EstimatedSalary  Geography_Germany  \\\n",
       "count  6000.000000     6000.000000     6.000000e+03        6000.000000   \n",
       "mean      0.699500        0.515500    -9.272907e-17           0.248500   \n",
       "std       0.458514        0.499801     1.000083e+00           0.432179   \n",
       "min       0.000000        0.000000    -1.743588e+00           0.000000   \n",
       "25%       0.000000        0.000000    -8.612047e-01           0.000000   \n",
       "50%       1.000000        1.000000    -3.425867e-04           0.000000   \n",
       "75%       1.000000        1.000000     8.659700e-01           0.000000   \n",
       "max       1.000000        1.000000     1.730631e+00           1.000000   \n",
       "\n",
       "       Geography_Spain  Gender_Male  \n",
       "count       6000.00000  6000.000000  \n",
       "mean           0.24900     0.548500  \n",
       "std            0.43247     0.497684  \n",
       "min            0.00000     0.000000  \n",
       "25%            0.00000     0.000000  \n",
       "50%            0.00000     1.000000  \n",
       "75%            0.00000     1.000000  \n",
       "max            1.00000     1.000000  "
      ]
     },
     "execution_count": 23,
     "metadata": {},
     "output_type": "execute_result"
    }
   ],
   "source": [
    "features_train.describe()"
   ]
  },
  {
   "cell_type": "markdown",
   "metadata": {},
   "source": [
    "### Вывод\n",
    "\n",
    "- Мы убрали из данных не информативные для нас столбцы с номером строки, номером ID, фамилией клиента,\n",
    "- Обработали пропуски в столбце Tenure - количество недвижимости,\n",
    "- Сделали кодирование категориальных признаков методом one_hot_encording подходящим для разных видов ML, \n",
    "- Поделили данные на тренировочную, валидационную и тестовую выборки,\n",
    "- Сделали масштабирование численных признаков.<br>\n",
    "\n",
    "Данные предобработаны, закодированы, масштабированы и поделены на выборки. Теперь можно обучать ML модель и исследовать задачу."
   ]
  },
  {
   "cell_type": "markdown",
   "metadata": {},
   "source": [
    "# 2. Исследование задачи\n",
    "<a class=\"anchor\" id=\"chapter2\"></a>"
   ]
  },
  {
   "cell_type": "markdown",
   "metadata": {},
   "source": [
    "#### Исследуем модель с логистической регрессией"
   ]
  },
  {
   "cell_type": "code",
   "execution_count": 24,
   "metadata": {},
   "outputs": [
    {
     "name": "stdout",
     "output_type": "stream",
     "text": [
      "Accuracy модели логистической регрессии на валидационной выборке: 0.812\n",
      "F1 score модели логистической регрессии на валидационной выборке: 0.2932330827067669\n"
     ]
    }
   ],
   "source": [
    "model = LogisticRegression(random_state=12345, solver='liblinear') \n",
    "# инициализируем модель логистической регрессии\n",
    "model.fit(features_train, target_train) \n",
    "# обучим модель на тренировочной выборке\n",
    "accuracy = model.score(features_valid, target_valid) \n",
    "# получим метрику качества модели на валидационной выборке\n",
    "predicted_valid = model.predict(features_valid)\n",
    "#сделаем предикт для проверки метрики F1\n",
    "f1 = f1_score(target_valid, predicted_valid)\n",
    "\n",
    "# сохряняю метрики в глобальные переменные\n",
    "acuracy_logreg_nobalance = accuracy\n",
    "f1_logreg_nobalance = f1\n",
    "\n",
    "print(\"Accuracy модели логистической регрессии на валидационной выборке:\", accuracy)\n",
    "print(\"F1 score модели логистической регрессии на валидационной выборке:\", f1)"
   ]
  },
  {
   "cell_type": "markdown",
   "metadata": {},
   "source": [
    "Теперь проверим модель на адекватность, задав везде исход с наибольшим весом по целевым признакам - 0"
   ]
  },
  {
   "cell_type": "code",
   "execution_count": 25,
   "metadata": {},
   "outputs": [
    {
     "name": "stdout",
     "output_type": "stream",
     "text": [
      "0.7965\n"
     ]
    }
   ],
   "source": [
    "target_pred_constant = pd.Series( 0, index=target_valid.index)\n",
    "print(accuracy_score(target_valid, target_pred_constant))"
   ]
  },
  {
   "cell_type": "markdown",
   "metadata": {},
   "source": [
    "Наша модель практически не имеет разницы в точности предсказаний с рандомной моделью по наибольшему целевому признаку, это не радует =/"
   ]
  },
  {
   "cell_type": "markdown",
   "metadata": {},
   "source": [
    "#### Исследуем модель с лесом решений"
   ]
  },
  {
   "cell_type": "markdown",
   "metadata": {},
   "source": [
    "Попробуем с акцентировать на метрике F1_score и перебрать лес деревьев, а по модели наибольшей F1_score взять accurancy и сделать проверку на адекватность"
   ]
  },
  {
   "cell_type": "code",
   "execution_count": 26,
   "metadata": {
    "scrolled": true
   },
   "outputs": [
    {
     "name": "stderr",
     "output_type": "stream",
     "text": [
      "/Users/daniilsinitsin/opt/anaconda3/lib/python3.7/site-packages/sklearn/metrics/classification.py:1437: UndefinedMetricWarning: F-score is ill-defined and being set to 0.0 due to no predicted samples.\n",
      "  'precision', 'predicted', average, warn_for)\n",
      "/Users/daniilsinitsin/opt/anaconda3/lib/python3.7/site-packages/sklearn/metrics/classification.py:1437: UndefinedMetricWarning: F-score is ill-defined and being set to 0.0 due to no predicted samples.\n",
      "  'precision', 'predicted', average, warn_for)\n",
      "/Users/daniilsinitsin/opt/anaconda3/lib/python3.7/site-packages/sklearn/metrics/classification.py:1437: UndefinedMetricWarning: F-score is ill-defined and being set to 0.0 due to no predicted samples.\n",
      "  'precision', 'predicted', average, warn_for)\n",
      "/Users/daniilsinitsin/opt/anaconda3/lib/python3.7/site-packages/sklearn/metrics/classification.py:1437: UndefinedMetricWarning: F-score is ill-defined and being set to 0.0 due to no predicted samples.\n",
      "  'precision', 'predicted', average, warn_for)\n",
      "/Users/daniilsinitsin/opt/anaconda3/lib/python3.7/site-packages/sklearn/metrics/classification.py:1437: UndefinedMetricWarning: F-score is ill-defined and being set to 0.0 due to no predicted samples.\n",
      "  'precision', 'predicted', average, warn_for)\n",
      "/Users/daniilsinitsin/opt/anaconda3/lib/python3.7/site-packages/sklearn/metrics/classification.py:1437: UndefinedMetricWarning: F-score is ill-defined and being set to 0.0 due to no predicted samples.\n",
      "  'precision', 'predicted', average, warn_for)\n",
      "/Users/daniilsinitsin/opt/anaconda3/lib/python3.7/site-packages/sklearn/metrics/classification.py:1437: UndefinedMetricWarning: F-score is ill-defined and being set to 0.0 due to no predicted samples.\n",
      "  'precision', 'predicted', average, warn_for)\n",
      "/Users/daniilsinitsin/opt/anaconda3/lib/python3.7/site-packages/sklearn/metrics/classification.py:1437: UndefinedMetricWarning: F-score is ill-defined and being set to 0.0 due to no predicted samples.\n",
      "  'precision', 'predicted', average, warn_for)\n",
      "/Users/daniilsinitsin/opt/anaconda3/lib/python3.7/site-packages/sklearn/metrics/classification.py:1437: UndefinedMetricWarning: F-score is ill-defined and being set to 0.0 due to no predicted samples.\n",
      "  'precision', 'predicted', average, warn_for)\n"
     ]
    },
    {
     "name": "stdout",
     "output_type": "stream",
     "text": [
      "Accuracy по наилучшей f1_score модели на валидационной выборке: 0.855\n",
      "Количество деревьев: 45\n",
      "Оптимальная глубина дерева: 18\n",
      "Лучшая F1_score: 0.5606060606060606\n",
      "CPU times: user 35.3 s, sys: 706 ms, total: 36 s\n",
      "Wall time: 37.8 s\n"
     ]
    }
   ],
   "source": [
    "%%time\n",
    "\n",
    "best_model = None\n",
    "best_accuracy = 0\n",
    "best_est = 0\n",
    "best_depth = 0\n",
    "best_f1_score = 0\n",
    "\n",
    "for est in range(10, 51, 5): # создаем цикл перебирая с 10 по 50 деревьев в лесу с шагом 5\n",
    "    for depth in range (1, 21): # внутри цикла еще один цикл перебирающий глубину деревьев от 1 до 20\n",
    "        model = RandomForestClassifier(random_state=12345, n_estimators=est, max_depth=depth) \n",
    "        # создаем пустую модель с заданным количеством деревьев\n",
    "        model.fit(features_train, target_train)\n",
    "        # считаем модель на тренировочной выборке\n",
    "        accuracy = model.score(features_valid, target_valid) \n",
    "        # считаем качество модели на валидационной выборке\n",
    "        predicted_valid = model.predict(features_valid)\n",
    "        #сделаем предикт для проверки метрики F1\n",
    "        f1 = f1_score(target_valid, predicted_valid)\n",
    "        # считаем f1_score модели на валидационной выборке\n",
    "        if f1 > best_f1_score:\n",
    "            best_model = model\n",
    "            # сохраняем наилучшую модель\n",
    "            best_accuracy = accuracy\n",
    "            #  сохраняем наилучшее значение метрики accuracy на валидационных данных\n",
    "            best_est = est\n",
    "            # сохраняем наилучшее значение с количеством деревьев\n",
    "            best_depth = depth\n",
    "            # сохраняем наилучшее значние с глубиной дерева\n",
    "            best_f1_score = f1\n",
    "\n",
    "# сохряняю метрики в глобальные переменные\n",
    "acuracy_forest_nobalance = best_accuracy\n",
    "f1_forest_nobalance = best_f1_score\n",
    "\n",
    "print(\"Accuracy по наилучшей f1_score модели на валидационной выборке:\", best_accuracy)\n",
    "print(\"Количество деревьев:\", best_est)\n",
    "print(\"Оптимальная глубина дерева:\", best_depth)\n",
    "print(\"Лучшая F1_score:\", best_f1_score)"
   ]
  },
  {
   "cell_type": "markdown",
   "metadata": {},
   "source": [
    "Теперь проверим модель на адекватность, задав везде исход с наибольшим весом по целевым признакам - 0"
   ]
  },
  {
   "cell_type": "code",
   "execution_count": 27,
   "metadata": {},
   "outputs": [
    {
     "name": "stdout",
     "output_type": "stream",
     "text": [
      "0.7965\n"
     ]
    }
   ],
   "source": [
    "target_pred_constant = pd.Series( 0, index=target_valid.index)\n",
    "accuracy_const = accuracy_score(target_valid, target_pred_constant)\n",
    "f1_const = 0.59\n",
    "print(accuracy_const)"
   ]
  },
  {
   "cell_type": "markdown",
   "metadata": {},
   "source": [
    "Данная модель проходит тест на адекватность по accuracy(0,85 > 0,79), но не проходит проверку f1_score (0.56 < 0,59)"
   ]
  },
  {
   "cell_type": "code",
   "execution_count": 28,
   "metadata": {},
   "outputs": [
    {
     "name": "stdout",
     "output_type": "stream",
     "text": [
      "Название                                           | Accuracy | F1_score |\n",
      "------------------------------------------------------------------------\n",
      "Константная модель                                     0.796      0.590    \n",
      "Модель логической регрессии, несбалансированной             0.812      0.293    \n",
      "Модель дерева решений ,несбалансированная                  0.855      0.561    \n"
     ]
    }
   ],
   "source": [
    "print('Название                                           | Accuracy | F1_score |')\n",
    "print('------------------------------------------------------------------------')\n",
    "print('Константная модель                                     {: <8.3f}   {: <8.3f} '.format(accuracy_const, f1_const))\n",
    "print('Модель логической регрессии, несбалансированной             {: <8.3f}   {: <8.3f} '.format(acuracy_logreg_nobalance, f1_logreg_nobalance))\n",
    "print('Модель дерева решений ,несбалансированная                  {: <8.3f}   {: <8.3f} '.format(acuracy_forest_nobalance, f1_forest_nobalance))"
   ]
  },
  {
   "cell_type": "markdown",
   "metadata": {},
   "source": [
    "В конце посмотрим какой дисбаланс у нас по классам в данных"
   ]
  },
  {
   "cell_type": "code",
   "execution_count": 29,
   "metadata": {},
   "outputs": [
    {
     "data": {
      "text/plain": [
       "0    0.7963\n",
       "1    0.2037\n",
       "Name: Exited, dtype: float64"
      ]
     },
     "execution_count": 29,
     "metadata": {},
     "output_type": "execute_result"
    }
   ],
   "source": [
    "data['Exited'].value_counts(normalize=True)"
   ]
  },
  {
   "cell_type": "markdown",
   "metadata": {},
   "source": [
    "Здесь мы видим дисбаланс классов 80 на 20"
   ]
  },
  {
   "cell_type": "markdown",
   "metadata": {},
   "source": [
    "### Вывод\n",
    "Мы видим, что лес решений дает нам результат уже лучше чем линейная регрессия, но он все еще недостаточно хорош и его можно еще улучшить, если нам получиться побороть дисбаланс классов который мы видим в признаках."
   ]
  },
  {
   "cell_type": "markdown",
   "metadata": {},
   "source": [
    "# 3. Борьба с дисбалансом\n",
    "<a class=\"anchor\" id=\"chapter3\"></a>"
   ]
  },
  {
   "cell_type": "markdown",
   "metadata": {},
   "source": [
    "Теперь попробуем при обучении скорректировать балансы классов и посмотрим на результаты обучения (0 - 80%, 1 - 20%)"
   ]
  },
  {
   "cell_type": "markdown",
   "metadata": {},
   "source": [
    "#### Подбор гиперпараметров с изменением весса редкого класса. \n",
    "Добавим в нашу модель аргументы, class_weight='balanced'. Редкий клас будет иметь теперь больший вес."
   ]
  },
  {
   "cell_type": "code",
   "execution_count": 30,
   "metadata": {},
   "outputs": [
    {
     "name": "stdout",
     "output_type": "stream",
     "text": [
      "Accuracy по наилучшей f1_score модели на валидационной выборке: 0.8275\n",
      "Количество деревьев: 45\n",
      "Оптимальная глубина дерева: 8\n",
      "Лучшая F1_score: 0.6101694915254238\n",
      "CPU times: user 34.4 s, sys: 647 ms, total: 35.1 s\n",
      "Wall time: 35.7 s\n"
     ]
    }
   ],
   "source": [
    "%%time\n",
    "\n",
    "best_model = None\n",
    "best_accuracy = 0\n",
    "best_est = 0\n",
    "best_depth = 0\n",
    "best_f1_score = 0\n",
    "\n",
    "for est in range(10, 51, 5): # создаем цикл перебирая с 10 по 50 деревьев в лесу с шагом 5\n",
    "    for depth in range (1, 21): # внутри цикла еще один цикл перебирающий глубину деревьев от 1 до 20\n",
    "        model = RandomForestClassifier(random_state=12345, n_estimators=est, max_depth=depth, class_weight='balanced') \n",
    "        # создаем пустую модель с заданным количеством деревьев\n",
    "        model.fit(features_train, target_train)\n",
    "        # считаем модель на тренировочной выборке\n",
    "        accuracy = model.score(features_valid, target_valid) \n",
    "        # считаем качество модели на валидационной выборке\n",
    "        predicted_valid = model.predict(features_valid)\n",
    "        #сделаем предикт для проверки метрики F1\n",
    "        f1 = f1_score(target_valid, predicted_valid)\n",
    "        # считаем f1_score модели на валидационной выборке\n",
    "        if f1 > best_f1_score:\n",
    "            best_model = model\n",
    "            # сохраняем наилучшую модель\n",
    "            best_accuracy = accuracy\n",
    "            #  сохраняем наилучшее значение метрики accuracy на валидационных данных\n",
    "            best_est = est\n",
    "            # сохраняем наилучшее значение с количеством деревьев\n",
    "            best_depth = depth\n",
    "            # сохраняем наилучшее значние с глубиной дерева\n",
    "            best_f1_score = f1\n",
    "            # сохраняем наилучший f1_score \n",
    "print(\"Accuracy по наилучшей f1_score модели на валидационной выборке:\", best_accuracy)\n",
    "print(\"Количество деревьев:\", best_est)\n",
    "print(\"Оптимальная глубина дерева:\", best_depth)\n",
    "print(\"Лучшая F1_score:\", best_f1_score)"
   ]
  },
  {
   "cell_type": "markdown",
   "metadata": {},
   "source": [
    "Данная модель проходит тест на адекватность по accuracy (0,8275 > 0,79) и проходит проверку f1_score (0.61 > 0,59)"
   ]
  },
  {
   "cell_type": "markdown",
   "metadata": {},
   "source": [
    "Возьмем наш лес с наилучшими гиперпараметрами: 45 деревьев и 8 глубина дерева,попробуем подобрать наилучший порог положительного класса 1"
   ]
  },
  {
   "cell_type": "code",
   "execution_count": 31,
   "metadata": {},
   "outputs": [
    {
     "name": "stdout",
     "output_type": "stream",
     "text": [
      "Наилучшие гипермараметры модели: Порог = 0.50 | Accuracy = 0.828, F1_score = 0.610\n",
      "CPU times: user 329 ms, sys: 6.37 ms, total: 335 ms\n",
      "Wall time: 336 ms\n"
     ]
    }
   ],
   "source": [
    "%%time\n",
    "\n",
    "best_accuracy = 0\n",
    "best_f1_score = 0\n",
    "best_threshold = 0\n",
    "\n",
    "model = RandomForestClassifier(random_state=12345, n_estimators=45, max_depth=8,\n",
    "                               class_weight='balanced') # создаем пустую модель с заданным количеством деревьев\n",
    "model.fit(features_train, target_train) # обучаем модель\n",
    "    \n",
    "probabilities_valid = model.predict_proba(features_valid) # создадим таблицу вероятностей классов\n",
    "probabilities_one_valid = probabilities_valid[:, 1] # выделим вероятности 1 класса\n",
    "\n",
    "for threshold in np.arange(0.1, 0.9, 0.02): \n",
    "    predicted_valid = probabilities_one_valid > threshold \n",
    "        # переведем предикт в булев массив сравнив вероятности единицы и порог в цикле от 0.1 до 0.9 с шагом 0.02\n",
    "    f1 = f1_score(target_valid, predicted_valid)\n",
    "        # считаем модель на тренировочной выборке\n",
    "    accuracy = accuracy_score(target_valid, predicted_valid) \n",
    "        # считаем качество модели на валидационной выборке\n",
    "    if f1 > best_f1_score:\n",
    "        best_accuracy = accuracy\n",
    "            #  сохраняем наилучшее значение метрики accuracy на валидационных данных\n",
    "        best_f1_score = f1\n",
    "            # сохраняем наилучший f1_score \n",
    "        best_threshold = threshold\n",
    "            # сохраняем наилучший порог\n",
    "            \n",
    "# сохряняю метрики в глобальные переменные\n",
    "acuracy_forest_weighted= best_accuracy\n",
    "f1_forest_weighted = best_f1_score\n",
    "\n",
    "print(\"Наилучшие гипермараметры модели: Порог = {:.2f} | Accuracy = {:.3f}, F1_score = {:.3f}\"\n",
    "      .format(best_threshold, best_accuracy, best_f1_score)\n",
    ")"
   ]
  },
  {
   "cell_type": "markdown",
   "metadata": {},
   "source": [
    "Данная модель проходит тест на адекватность по accuracy (0,828 > 0,79) и проходит проверку f1_score (0.61 > 0,59). Порог изменений не требует."
   ]
  },
  {
   "cell_type": "markdown",
   "metadata": {},
   "source": [
    "#### Подбор киперпараметров с увеличением доли редкого класса - upsampling"
   ]
  },
  {
   "cell_type": "markdown",
   "metadata": {},
   "source": [
    "Сначала пропишем функцию для увеличения количества редкого класса, потом применим ее с коэф 4 для изменения баланса с 1:4 до 1:1."
   ]
  },
  {
   "cell_type": "code",
   "execution_count": 32,
   "metadata": {},
   "outputs": [],
   "source": [
    "def upsample(features, target, repeat):\n",
    "    features_zeros = features[target == 0]\n",
    "    features_ones = features[target == 1]\n",
    "    target_zeros = target[target == 0]\n",
    "    target_ones = target[target == 1]\n",
    "\n",
    "    features_upsampled = pd.concat([features_zeros] + [features_ones] * repeat)\n",
    "    target_upsampled = pd.concat([target_zeros] + [target_ones] * repeat)\n",
    "    \n",
    "    features_upsampled, target_upsampled = shuffle(\n",
    "        features_upsampled, target_upsampled, random_state=12345)\n",
    "    \n",
    "    return features_upsampled, target_upsampled"
   ]
  },
  {
   "cell_type": "markdown",
   "metadata": {},
   "source": [
    "Применим нашу функцию"
   ]
  },
  {
   "cell_type": "code",
   "execution_count": 33,
   "metadata": {},
   "outputs": [
    {
     "name": "stdout",
     "output_type": "stream",
     "text": [
      "Accuracy по наилучшей f1_score модели на валидационной выборке: 0.824\n",
      "Количество деревьев: 50\n",
      "Оптимальная глубина дерева: 9\n",
      "Лучшая F1_score: 0.616557734204793\n",
      "CPU times: user 49.1 s, sys: 1.06 s, total: 50.2 s\n",
      "Wall time: 55.1 s\n"
     ]
    }
   ],
   "source": [
    "%%time\n",
    "\n",
    "best_model = None\n",
    "best_accuracy = 0\n",
    "best_est = 0\n",
    "best_depth = 0\n",
    "best_f1_score = 0\n",
    "\n",
    "features_train_upsampled, target_train_upsampled = upsample(features_train, target_train, 4)\n",
    "\n",
    "for est in range(10, 51, 5): # создаем цикл перебирая с 10 по 50 деревьев в лесу с шагом 5\n",
    "    for depth in range (1, 21): # внутри цикла еще один цикл перебирающий глубину деревьев от 1 до 20\n",
    "        model = RandomForestClassifier(random_state=12345, n_estimators=est, max_depth=depth,) \n",
    "        # создаем пустую модель с заданным количеством деревьев\n",
    "        model.fit(features_train_upsampled, target_train_upsampled)\n",
    "        # считаем модель на тренировочной выборке\n",
    "        accuracy = model.score(features_valid, target_valid) \n",
    "        # считаем качество модели на валидационной выборке\n",
    "        predicted_valid = model.predict(features_valid)\n",
    "        #сделаем предикт для проверки метрики F1\n",
    "        f1 = f1_score(target_valid, predicted_valid)\n",
    "        # считаем f1_score модели на валидационной выборке\n",
    "        if f1 > best_f1_score:\n",
    "            best_model = model\n",
    "            # сохраняем наилучшую модель\n",
    "            best_accuracy = accuracy\n",
    "            #  сохраняем наилучшее значение метрики accuracy на валидационных данных\n",
    "            best_est = est\n",
    "            # сохраняем наилучшее значение с количеством деревьев\n",
    "            best_depth = depth\n",
    "            # сохраняем наилучшее значние с глубиной дерева\n",
    "            best_f1_score = f1\n",
    "            # сохраняем наилучший f1_score \n",
    "\n",
    "print(\"Accuracy по наилучшей f1_score модели на валидационной выборке:\", best_accuracy)\n",
    "print(\"Количество деревьев:\", best_est)\n",
    "print(\"Оптимальная глубина дерева:\", best_depth)\n",
    "print(\"Лучшая F1_score:\", best_f1_score)"
   ]
  },
  {
   "cell_type": "markdown",
   "metadata": {},
   "source": [
    "Данная модель проходит тест на адекватность по accuracy (0,824 > 0,79) и проходит проверку f1_score (0.616 > 0,59)"
   ]
  },
  {
   "cell_type": "markdown",
   "metadata": {},
   "source": [
    "Возьмем наш лес с наилучшими гиперпараметрами: 50 деревьев и 9 глубина дерева,попробуем подобрать наилучший порог положительного класса 1"
   ]
  },
  {
   "cell_type": "code",
   "execution_count": 34,
   "metadata": {},
   "outputs": [
    {
     "name": "stdout",
     "output_type": "stream",
     "text": [
      "Наилучшие гипермараметры модели: Порог = 0.54 | Accuracy = 0.835, F1_score = 0.617\n",
      "CPU times: user 513 ms, sys: 11.9 ms, total: 525 ms\n",
      "Wall time: 532 ms\n"
     ]
    }
   ],
   "source": [
    "%%time\n",
    "\n",
    "best_accuracy = 0\n",
    "best_f1_score = 0\n",
    "best_threshold = 0\n",
    "\n",
    "features_train_upsampled, target_train_upsampled = upsample(features_train, target_train, 4)\n",
    "\n",
    "model = RandomForestClassifier(random_state=12345, n_estimators=50, max_depth=9)\n",
    "    # создаем пустую модель с заданным количеством деревьев\n",
    "model.fit(features_train_upsampled, target_train_upsampled) # обучаем модель\n",
    "    \n",
    "probabilities_valid = model.predict_proba(features_valid) # создадим таблицу вероятностей классов\n",
    "probabilities_one_valid = probabilities_valid[:, 1] # выделим вероятности 1 класса\n",
    "\n",
    "for threshold in np.arange(0.1, 0.9, 0.02): \n",
    "    predicted_valid = probabilities_one_valid > threshold \n",
    "        # переведем предикт в булев массив сравнив вероятности единицы и порог в цикле от 0.1 до 0.9 с шагом 0.02\n",
    "    f1 = f1_score(target_valid, predicted_valid)\n",
    "        # считаем модель на тренировочной выборке\n",
    "    accuracy = accuracy_score(target_valid, predicted_valid) \n",
    "        # считаем качество модели на валидационной выборке\n",
    "    if f1 > best_f1_score:\n",
    "        best_accuracy = accuracy\n",
    "            #  сохраняем наилучшее значение метрики accuracy на валидационных данных\n",
    "        best_f1_score = f1\n",
    "            # сохраняем наилучший f1_score \n",
    "        best_threshold = threshold\n",
    "            # сохраняем наилучший порог\n",
    "           \n",
    " # сохряняю метрики в глобальные переменные\n",
    "acuracy_forest_upsampling = best_accuracy\n",
    "f1_forest_upsampling = best_f1_score\n",
    "\n",
    "print(\"Наилучшие гипермараметры модели: Порог = {:.2f} | Accuracy = {:.3f}, F1_score = {:.3f}\"\n",
    "      .format(best_threshold, best_accuracy, best_f1_score)\n",
    ")"
   ]
  },
  {
   "cell_type": "markdown",
   "metadata": {},
   "source": [
    "Модель обученная c методом Upsampling проходит тест на адекватность по accuracy (0,835 > 0,79) и проходит проверку f1_score (0.617 > 0,59)."
   ]
  },
  {
   "cell_type": "code",
   "execution_count": 41,
   "metadata": {},
   "outputs": [
    {
     "name": "stdout",
     "output_type": "stream",
     "text": [
      "Название                                           | Accuracy | F1_score |\n",
      "------------------------------------------------------------------------\n",
      "Константная модель                                     0.796      0.590    \n",
      "Модель логической регрессии, несбалансированная        0.812      0.293    \n",
      "Модель дерева решений, несбалансированная              0.855      0.561    \n",
      "Модель дерева решений, взвешенная                      0.828      0.610    \n",
      "Модель дерева решений, увеличенная                     0.835      0.617    \n"
     ]
    }
   ],
   "source": [
    "print('Название                                           | Accuracy | F1_score |')\n",
    "print('------------------------------------------------------------------------')\n",
    "print('Константная модель                                     {: <8.3f}   {: <8.3f} '\n",
    "      .format(accuracy_const, f1_const))\n",
    "print('Модель логической регрессии, несбалансированная        {: <8.3f}   {: <8.3f} '\n",
    "      .format(acuracy_logreg_nobalance, f1_logreg_nobalance))\n",
    "print('Модель дерева решений, несбалансированная              {: <8.3f}   {: <8.3f} '\n",
    "      .format(acuracy_forest_nobalance, f1_forest_nobalance))\n",
    "print('Модель дерева решений, взвешенная                      {: <8.3f}   {: <8.3f} '\n",
    "      .format(acuracy_forest_weighted, f1_forest_weighted))\n",
    "print('Модель дерева решений, увеличенная                     {: <8.3f}   {: <8.3f} '\n",
    "      .format(acuracy_forest_upsampling, f1_forest_upsampling))\n"
   ]
  },
  {
   "cell_type": "markdown",
   "metadata": {},
   "source": [
    "## 4. Тестирование модели\n",
    "<a class=\"anchor\" id=\"chapter4\"></a>"
   ]
  },
  {
   "cell_type": "markdown",
   "metadata": {},
   "source": [
    "Обе модели дали практически одинаковый результат, на наш взгляд интереснее модель с изменением веса редкого класса для равномерной балансировки при обучении, она короче и выглядит проще."
   ]
  },
  {
   "cell_type": "markdown",
   "metadata": {},
   "source": [
    "Возьмем нашу модель леса с наилучшими гиперпараметрами: 45 деревьев и 8 глубина дерева,попробуем подобрать наилучший порогом 0,50. <br>\n",
    "Теперь проверим модель с нашими гиперпараметрами на тестовой выборке."
   ]
  },
  {
   "cell_type": "code",
   "execution_count": 36,
   "metadata": {},
   "outputs": [
    {
     "name": "stdout",
     "output_type": "stream",
     "text": [
      "Наилучшие гипермараметры модели: Порог = 0.50 | Accuracy = 0.837, F1_score = 0.636\n",
      "CPU times: user 267 ms, sys: 6.74 ms, total: 273 ms\n",
      "Wall time: 278 ms\n"
     ]
    }
   ],
   "source": [
    "%%time\n",
    "\n",
    "best_accuracy = 0\n",
    "best_f1_score = 0\n",
    "best_threshold = 0\n",
    "threshold = 0.5\n",
    "\n",
    "model = RandomForestClassifier(random_state=12345, n_estimators=45, max_depth=8,\n",
    "                               class_weight='balanced')# создаем пустую модель с заданным количеством деревьев\n",
    "model.fit(features_train, target_train) # обучаем модель\n",
    "    \n",
    "probabilities_test = model.predict_proba(features_test) # создадим таблицу вероятностей классов\n",
    "probabilities_one_test = probabilities_test[:, 1] # выделим вероятности 1 класса\n",
    "predicted_test = probabilities_one_test > threshold # переведем предикт в булев массив сравнив вероятности единицы и порог\n",
    "f1 = f1_score(target_test, predicted_test) # сохраняем наилучший f1_score\n",
    "accuracy = accuracy_score(target_test, predicted_test) #  сохраняем наилучшее значение метрики accuracy на валидационных данных\n",
    "\n",
    "print(\"Наилучшие гипермараметры модели: Порог = {:.2f} | Accuracy = {:.3f}, F1_score = {:.3f}\"\n",
    "      .format(threshold, accuracy, f1)\n",
    ")"
   ]
  },
  {
   "cell_type": "markdown",
   "metadata": {},
   "source": [
    "Модель проходит тест на адекватность c 45 деревьями, глубиной 8 и порогом 0.5, по accuracy (0,837 > 0,79) и проходит проверку f1_score (0.636 > 0,59)."
   ]
  },
  {
   "cell_type": "markdown",
   "metadata": {},
   "source": [
    "Построим еще ROC-AUC кривую и вычислим значение площади."
   ]
  },
  {
   "cell_type": "code",
   "execution_count": 37,
   "metadata": {},
   "outputs": [
    {
     "name": "stdout",
     "output_type": "stream",
     "text": [
      "roc_auc_score = 0.8692805325647845\n"
     ]
    },
    {
     "data": {
      "image/png": "[encoded data removed]",
      "text/plain": [
       "<Figure size 432x288 with 1 Axes>"
      ]
     },
     "metadata": {
      "needs_background": "light"
     },
     "output_type": "display_data"
    }
   ],
   "source": [
    "fpr, tpr, thresholds = roc_curve(target_test, probabilities_one_test)\n",
    "\n",
    "print('roc_auc_score =',roc_auc_score(target_test, probabilities_one_test))\n",
    "\n",
    "plt.figure()\n",
    "plt.plot(fpr, tpr)\n",
    "plt.plot([0, 1], [0, 1], linestyle='--')\n",
    "plt.xlim([0.0, 1.0])\n",
    "plt.ylim([0.0, 1.0])\n",
    "plt.xlabel('False Positive Rate')\n",
    "plt.ylabel('True Positive Rate')\n",
    "plt.title('ROC-кривая')\n",
    "plt.show()"
   ]
  },
  {
   "cell_type": "markdown",
   "metadata": {},
   "source": [
    "По графику мы видим, что наша модель работает значительно лучше чем простое угадывание."
   ]
  },
  {
   "cell_type": "markdown",
   "metadata": {},
   "source": [
    "Возьмем ту же модель с балансом классов через взвешивание, наша модель уже прошла проверку по valid, осталось соединить train + valid, обучить на них модель и проверить на этих признаках метрики модели с лучшими гиперпараметрами"
   ]
  },
  {
   "cell_type": "code",
   "execution_count": 38,
   "metadata": {},
   "outputs": [],
   "source": [
    "features_train2 = pd.concat([features_train, features_valid], ignore_index=True)\n",
    "target_train2 = pd.concat([target_train, target_valid], ignore_index=True)"
   ]
  },
  {
   "cell_type": "code",
   "execution_count": 39,
   "metadata": {},
   "outputs": [
    {
     "name": "stdout",
     "output_type": "stream",
     "text": [
      "Наилучшие гипермараметры модели: Порог = 0.50 | Accuracy = 0.832, F1_score = 0.640\n",
      "CPU times: user 304 ms, sys: 6.53 ms, total: 310 ms\n",
      "Wall time: 312 ms\n"
     ]
    }
   ],
   "source": [
    "%%time\n",
    "\n",
    "best_accuracy = 0\n",
    "best_f1_score = 0\n",
    "best_threshold = 0\n",
    "threshold = 0.5\n",
    "\n",
    "model = RandomForestClassifier(random_state=12345, n_estimators=45, max_depth=8,\n",
    "                               class_weight='balanced')# создаем пустую модель с заданным количеством деревьев\n",
    "model.fit(features_train2, target_train2) # обучаем модель\n",
    "    \n",
    "probabilities_test = model.predict_proba(features_test) # создадим таблицу вероятностей классов\n",
    "probabilities_one_test = probabilities_test[:, 1] # выделим вероятности 1 класса\n",
    "predicted_test = probabilities_one_test > threshold # переведем предикт в булев массив сравнив вероятности единицы и порог\n",
    "f1 = f1_score(target_test, predicted_test) # сохраняем наилучший f1_score\n",
    "accuracy = accuracy_score(target_test, predicted_test) #  сохраняем наилучшее значение метрики accuracy на валидационных данных\n",
    "\n",
    "print(\"Наилучшие гипермараметры модели: Порог = {:.2f} | Accuracy = {:.3f}, F1_score = {:.3f}\"\n",
    "      .format(threshold, accuracy, f1)\n",
    ")"
   ]
  },
  {
   "cell_type": "code",
   "execution_count": null,
   "metadata": {},
   "outputs": [],
   "source": []
  }
 ],
 "metadata": {
  "kernelspec": {
   "display_name": "Python 3",
   "language": "python",
   "name": "python3"
  },
  "language_info": {
   "codemirror_mode": {
    "name": "ipython",
    "version": 3
   },
   "file_extension": ".py",
   "mimetype": "text/x-python",
   "name": "python",
   "nbconvert_exporter": "python",
   "pygments_lexer": "ipython3",
   "version": "3.7.4"
  }
 },
 "nbformat": 4,
 "nbformat_minor": 2
}
